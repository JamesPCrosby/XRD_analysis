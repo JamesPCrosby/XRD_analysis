{
 "cells": [
  {
   "cell_type": "code",
   "execution_count": 1,
   "metadata": {},
   "outputs": [],
   "source": [
    "import pandas as pd\n",
    "import numpy as np\n",
    "import matplotlib.pyplot as plt"
   ]
  },
  {
   "cell_type": "code",
   "execution_count": null,
   "metadata": {},
   "outputs": [],
   "source": [
    "def user_input():\n",
    "    while True:\n",
    "        try:\n",
    "            name = input('Enter file name')\n",
    "            if '.''txt' in name:\n",
    "                print('File name: ' + name)\n",
    "                data = pd.read_csv(name, delimiter = '\\t')\n",
    "                print(data.head(10))\n",
    "                xdata = data.columns[0]\n",
    "                ydata = data.columns[1]\n",
    "                x_label = data.columns[0]\n",
    "                y_label = data.columns[1]\n",
    "                print(x_label, y_label)\n",
    "                return xdata, ydata, x_label, y_label\n",
    "                break\n",
    "            elif '.''csv' in name:\n",
    "                print('File name: ' + name)\n",
    "                while True:\n",
    "                    try:\n",
    "                        data = pd.read_csv(name)\n",
    "                        xdata = data[data.columns[0]]\n",
    "                        ydata = data[data.columns[1]]\n",
    "                        break\n",
    "                    except pd.errors.ParserError:\n",
    "                        while True:\n",
    "                            try:\n",
    "                                row = input('Enter data start row')\n",
    "                                data = pd.read_csv(name, header = int(row))\n",
    "                                print(data.head(10))\n",
    "                                xdata = data[data.columns[0]]\n",
    "                                ydata = data[data.columns[1]]\n",
    "                                break\n",
    "                            except pd.errors.ParserError:\n",
    "                                print('ERROR: INCORRECT ROW START')\n",
    "                                print('Enter data start row: ')\n",
    "                                continue\n",
    "                        break\n",
    "                    print('ERROR: FILE UNKNOWN')\n",
    "                    print('Please enter file name:')\n",
    "                    continue\n",
    "        except FileNotFoundError:\n",
    "            print('ERROR: FILE NOT FOUND')\n",
    "            print('Enter file name: ')\n",
    "            continue\n",
    "        break\n",
    "    return xdata, ydata, x_label, y_label\n",
    "\n",
    "def plotting():\n",
    "    width = input('Input figure width (inches)')\n",
    "    height = input('Input figure height (inches)')\n",
    "    plt.subplots(figsize = (int(width), int(height)))\n",
    "    plt.plot(data[0], data[1])\n",
    "    plt.xlabel(x_label)\n",
    "    plt.show()\n",
    "    \n",
    "data  = user_input()\n",
    "plot = plotting()\n"
   ]
  },
  {
   "cell_type": "code",
   "execution_count": null,
   "metadata": {},
   "outputs": [],
   "source": []
  }
 ],
 "metadata": {
  "kernelspec": {
   "display_name": "Python 3",
   "language": "python",
   "name": "python3"
  },
  "language_info": {
   "codemirror_mode": {
    "name": "ipython",
    "version": 3
   },
   "file_extension": ".py",
   "mimetype": "text/x-python",
   "name": "python",
   "nbconvert_exporter": "python",
   "pygments_lexer": "ipython3",
   "version": "3.7.6"
  }
 },
 "nbformat": 4,
 "nbformat_minor": 4
}
