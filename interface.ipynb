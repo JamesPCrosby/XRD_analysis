{
 "cells": [
  {
   "cell_type": "markdown",
   "metadata": {},
   "source": [
    "Modules"
   ]
  },
  {
   "cell_type": "code",
   "execution_count": 158,
   "metadata": {},
   "outputs": [],
   "source": [
    "import pandas as pd\n",
    "import numpy as np\n",
    "import matplotlib.pyplot as plt"
   ]
  },
  {
   "cell_type": "markdown",
   "metadata": {},
   "source": [
    "Loading files based on input format.  Class defined.  The initialisation of the class is defined in __init__, specifically the name of the file and the row number in which data starts.  Function file_type ascertains whether the input file is a text file or a csv file based and returns either form in a table, if neither file formats or incorrect file name given an error is produced.  \n",
    "\n",
    "The @classmethod and user_input allows for direct input on file names by the user before executing the necessary commands. "
   ]
  },
  {
   "cell_type": "code",
   "execution_count": 159,
   "metadata": {},
   "outputs": [],
   "source": [
    "class file_load:\n",
    "    def __init__(self, name, row):\n",
    "        self.name = name\n",
    "        self.row = row\n",
    "    \n",
    "    def file_type(self):\n",
    "        if '.''txt' in self.name:\n",
    "            print('File name: ' + self.name)\n",
    "            file = pd.read_csv(self.name, delimiter = '\\t')\n",
    "        elif '.''csv' in self.name:\n",
    "            print('File name ' + self.name)\n",
    "            file = pd.read_csv(self.name, header = int(self.row))\n",
    "        else:\n",
    "            print('ERROR')\n",
    "        return file\n",
    "    @classmethod\n",
    "    def user_input(self):\n",
    "        while 1:\n",
    "            try:\n",
    "                name = input('Enter file name: ')\n",
    "                row = input('Enter row number where data starts ')\n",
    "                return self(name, row)\n",
    "            except:\n",
    "                print('ERROR: Try Again')\n",
    "                continue"
   ]
  },
  {
   "cell_type": "code",
   "execution_count": 220,
   "metadata": {},
   "outputs": [],
   "source": [
    "class file_load:\n",
    "    def __init__(self, name, row, x_axis, y_axis, graph_scale):\n",
    "        self.name = name\n",
    "        self.row = row\n",
    "        self.x_axis = x_axis\n",
    "        self.y_axis = y_axis\n",
    "        self.graph_scale = graph_scale\n",
    "                 \n",
    "    def file_type(self):\n",
    "        if '.''txt' in self.name:\n",
    "            print('File name: ' + self.name)\n",
    "            file = pd.read_csv(self.name, delimiter = '\\t')\n",
    "        elif '.''csv' in self.name:\n",
    "            print('File name ' + self.name)\n",
    "            file = pd.read_csv(self.name, header = int(self.row))\n",
    "        else:\n",
    "            print('ERROR')\n",
    "        return file\n",
    "    \n",
    "    def plotting(self):\n",
    "        if self.x_axis == df.columns[0] and self.y_axis == df.columns[1]:\n",
    "            plt.plot(df.iloc[:, 0], df.iloc[:, 1])\n",
    "            plt.yscale(self.graph_scale)\n",
    "                 \n",
    "        return plt.show()\n",
    "    @classmethod\n",
    "    def user_input(self):\n",
    "        while 1:\n",
    "            try:\n",
    "                name = input('Enter file name: ')\n",
    "                row = input('Enter row number where data starts ')\n",
    "                x_axis = input('Enter name of x-axis: ')\n",
    "                y_axis = input('Enter name of y-axis: ')\n",
    "                graph_scale = input('Enter graph scale, e.g lin, log: ')\n",
    "                return self(name, row, x_axis, y_axis, graph_scale)\n",
    "            except:\n",
    "                print('ERROR: Try Again')\n",
    "                continue"
   ]
  },
  {
   "cell_type": "code",
   "execution_count": 225,
   "metadata": {},
   "outputs": [
    {
     "name": "stdin",
     "output_type": "stream",
     "text": [
      "Enter file name:  Phys-PK1_Si.csv\n",
      "Enter row number where data starts  29\n",
      "Enter name of x-axis:  Angle\n",
      "Enter name of y-axis:  Intensity\n",
      "Enter graph scale, e.g lin, log:  log\n"
     ]
    },
    {
     "name": "stdout",
     "output_type": "stream",
     "text": [
      "File name Phys-PK1_Si.csv\n"
     ]
    },
    {
     "data": {
      "image/png": "[encoded data removed]",
      "text/plain": [
       "<Figure size 432x288 with 1 Axes>"
      ]
     },
     "metadata": {
      "needs_background": "light"
     },
     "output_type": "display_data"
    }
   ],
   "source": [
    "data = file_load.user_input()\n",
    "df = data.file_type()\n",
    "plot = data.plotting()"
   ]
  },
  {
   "cell_type": "code",
   "execution_count": 192,
   "metadata": {},
   "outputs": [],
   "source": [
    "x = df.iloc[:, 0]\n",
    "y = df.iloc[:, 1]"
   ]
  },
  {
   "cell_type": "code",
   "execution_count": null,
   "metadata": {},
   "outputs": [],
   "source": []
  },
  {
   "cell_type": "code",
   "execution_count": null,
   "metadata": {},
   "outputs": [],
   "source": []
  }
 ],
 "metadata": {
  "kernelspec": {
   "display_name": "Python 3",
   "language": "python",
   "name": "python3"
  },
  "language_info": {
   "codemirror_mode": {
    "name": "ipython",
    "version": 3
   },
   "file_extension": ".py",
   "mimetype": "text/x-python",
   "name": "python",
   "nbconvert_exporter": "python",
   "pygments_lexer": "ipython3",
   "version": "3.7.6"
  }
 },
 "nbformat": 4,
 "nbformat_minor": 4
}
