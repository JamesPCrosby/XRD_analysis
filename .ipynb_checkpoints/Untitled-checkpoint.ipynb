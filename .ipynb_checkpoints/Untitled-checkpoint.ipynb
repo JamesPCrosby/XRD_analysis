{
 "cells": [
  {
   "cell_type": "code",
   "execution_count": null,
   "metadata": {},
   "outputs": [],
   "source": [
    "import pandas as pd\n",
    "import numpy as np\n",
    "import matplotlib.pyplot as plt"
   ]
  },
  {
   "cell_type": "code",
   "execution_count": null,
   "metadata": {},
   "outputs": [],
   "source": [
    "class file_load:\n",
    "    def __init__(self, name):\n",
    "        self.name = name\n",
    "        \n",
    "    def file_type(self):\n",
    "        if '.''txt' in self.name:\n",
    "            print('File name: ' + self.name)\n",
    "            file = pd.read_csv(self.name, delimiter = '\\t')\n",
    "        elif '.''csv' in self.name:\n",
    "            print('File name ' + self.name)\n",
    "            file = pd.read_csv(self.name)\n",
    "        else:\n",
    "            print('ERROR')\n",
    "        return file\n",
    "    \n",
    "    #def plotting(self):\n",
    "    #    if self.x_axis == df.columns[0] and self.y_axis == df.columns[1]:\n",
    "     #       plt.subplots(figsize = (15, 10))\n",
    "      #      plt.plot(df.iloc[:, 0], df.iloc[:, 1])\n",
    "       #     plt.yscale(self.graph_scale)\n",
    "        #    plt.xlabel(self.x_axis)\n",
    "         #   plt.ylabel(self.y_axis)\n",
    "          #  plt.title(self.graph_title)\n",
    "        #else:\n",
    "            #print('ERROR: Input name for x-axis or y-axis incorrect, please try agian.')\n",
    "        #return plt.show()\n",
    "    @classmethod\n",
    "    def user_input(self):\n",
    "        name = input('Enter file name: ')\n",
    "        return self(name)"
   ]
  },
  {
   "cell_type": "code",
   "execution_count": null,
   "metadata": {},
   "outputs": [],
   "source": [
    "data = file_load.user_input()\n",
    "df = file_load.file_type()"
   ]
  },
  {
   "cell_type": "code",
   "execution_count": null,
   "metadata": {},
   "outputs": [],
   "source": []
  }
 ],
 "metadata": {
  "kernelspec": {
   "display_name": "Python 3",
   "language": "python",
   "name": "python3"
  },
  "language_info": {
   "codemirror_mode": {
    "name": "ipython",
    "version": 3
   },
   "file_extension": ".py",
   "mimetype": "text/x-python",
   "name": "python",
   "nbconvert_exporter": "python",
   "pygments_lexer": "ipython3",
   "version": "3.7.6"
  }
 },
 "nbformat": 4,
 "nbformat_minor": 4
}
