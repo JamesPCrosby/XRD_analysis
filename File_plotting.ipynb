{
 "cells": [
  {
   "cell_type": "code",
   "execution_count": 1,
   "metadata": {},
   "outputs": [],
   "source": [
    "import pandas as pd\n",
    "import numpy as np\n",
    "import matplotlib.pyplot as plt"
   ]
  },
  {
   "cell_type": "code",
   "execution_count": 4,
   "metadata": {},
   "outputs": [],
   "source": [
    "class file_load:\n",
    "    def __init__(self, name, xdata, ydata):\n",
    "        self.name = name\n",
    "        self.xdata = xdata\n",
    "        self.ydata = ydata\n",
    "\n",
    "\n",
    "\n",
    "    def user_input():\n",
    "        while True:\n",
    "            try:\n",
    "                name = input('Enter file name')\n",
    "                if '.''txt' in name:\n",
    "                    print('File name: ' + name)\n",
    "                    data = pd.read_csv(name, delimiter = '\\t')\n",
    "                    print(data.head(10))\n",
    "                    xdata = data.columns[0]\n",
    "                    ydata = data.columns[1]\n",
    "                    return name, xdata, ydata\n",
    "                    break\n",
    "                elif '.''csv' in name:\n",
    "                    print('File name: ' + name)\n",
    "                    while True:\n",
    "                        try:\n",
    "                            data = pd.read_csv(name)\n",
    "                            xdata = data[data.columns[0]]\n",
    "                            ydata = data[data.columns[1]]\n",
    "                            break\n",
    "                        except pd.errors.ParserError:\n",
    "                            while True:\n",
    "                                try:\n",
    "                                    row = input('Enter data start row')\n",
    "                                    data = pd.read_csv(name, header = int(row))\n",
    "                                    print(data.head(10))\n",
    "                                    xdata = data[data.columns[0]]\n",
    "                                    ydata = data[data.columns[1]]\n",
    "                                    break\n",
    "                                except pd.errors.ParserError:\n",
    "                                    print('ERROR: INCORRECT ROW START')\n",
    "                                    print('Enter data start row: ')\n",
    "                                    continue\n",
    "                            break\n",
    "                        print('ERROR: FILE UNKNOWN')\n",
    "                        print('Please enter file name:')\n",
    "                        continue\n",
    "            except FileNotFoundError:\n",
    "                print('ERROR: FILE NOT FOUND')\n",
    "                print('Enter file name: ')\n",
    "                continue\n",
    "            break\n",
    "        return self(name, xdata, ydata)\n"
   ]
  },
  {
   "cell_type": "code",
   "execution_count": 5,
   "metadata": {},
   "outputs": [
    {
     "name": "stdin",
     "output_type": "stream",
     "text": [
      "Enter file name 188_XRD.txt\n"
     ]
    },
    {
     "name": "stdout",
     "output_type": "stream",
     "text": [
      "File name: 188_XRD.txt\n",
      "    Angle  Intensity\n",
      "0  25.008    0.01280\n",
      "1  25.025   -0.00654\n",
      "2  25.042   -0.00617\n",
      "3  25.059    0.01610\n",
      "4  25.076   -0.00324\n",
      "5  25.093    0.01030\n",
      "6  25.110    0.00481\n",
      "7  25.127    0.01030\n",
      "8  25.144    0.00481\n",
      "9  25.161    0.02200\n"
     ]
    }
   ],
   "source": [
    "data = file_load.user_input()"
   ]
  },
  {
   "cell_type": "code",
   "execution_count": 6,
   "metadata": {},
   "outputs": [
    {
     "ename": "NameError",
     "evalue": "name 'xdata' is not defined",
     "output_type": "error",
     "traceback": [
      "\u001b[0;31m---------------------------------------------------------------------------\u001b[0m",
      "\u001b[0;31mNameError\u001b[0m                                 Traceback (most recent call last)",
      "\u001b[0;32m<ipython-input-6-6ba4fd76477d>\u001b[0m in \u001b[0;36m<module>\u001b[0;34m\u001b[0m\n\u001b[0;32m----> 1\u001b[0;31m \u001b[0mprint\u001b[0m\u001b[0;34m(\u001b[0m\u001b[0mxdata\u001b[0m\u001b[0;34m)\u001b[0m\u001b[0;34m\u001b[0m\u001b[0;34m\u001b[0m\u001b[0m\n\u001b[0m",
      "\u001b[0;31mNameError\u001b[0m: name 'xdata' is not defined"
     ]
    }
   ],
   "source": [
    "print(xdata)"
   ]
  },
  {
   "cell_type": "code",
   "execution_count": 24,
   "metadata": {},
   "outputs": [],
   "source": [
    "    def user_input():\n",
    "        while True:\n",
    "            try:\n",
    "                name = input('Enter file name')\n",
    "                if '.''txt' in name:\n",
    "                    print('File name: ' + name)\n",
    "                    data = pd.read_csv(name, delimiter = '\\t')\n",
    "                    print(data.head(10))\n",
    "                    xdata = data.columns[0]\n",
    "                    ydata = data.columns[1]\n",
    "                    return name, xdata, ydata\n",
    "                    break\n",
    "                elif '.''csv' in name:\n",
    "                    print('File name: ' + name)\n",
    "                    while True:\n",
    "                        try:\n",
    "                            data = pd.read_csv(name)\n",
    "                            xdata = data[data.columns[0]]\n",
    "                            ydata = data[data.columns[1]]\n",
    "                            break\n",
    "                        except pd.errors.ParserError:\n",
    "                            while True:\n",
    "                                try:\n",
    "                                    row = input('Enter data start row')\n",
    "                                    data = pd.read_csv(name, header = int(row))\n",
    "                                    print(data.head(10))\n",
    "                                    xdata = data[data.columns[0]]\n",
    "                                    ydata = data[data.columns[1]]\n",
    "                                    break\n",
    "                                except pd.errors.ParserError:\n",
    "                                    print('ERROR: INCORRECT ROW START')\n",
    "                                    print('Enter data start row: ')\n",
    "                                    continue\n",
    "                            break\n",
    "                        print('ERROR: FILE UNKNOWN')\n",
    "                        print('Please enter file name:')\n",
    "                        continue\n",
    "            except FileNotFoundError:\n",
    "                print('ERROR: FILE NOT FOUND')\n",
    "                print('Enter file name: ')\n",
    "                continue\n",
    "            break\n",
    "        return (name, xdata, ydata)"
   ]
  },
  {
   "cell_type": "code",
   "execution_count": 25,
   "metadata": {},
   "outputs": [
    {
     "name": "stdin",
     "output_type": "stream",
     "text": [
      "Enter file name Phys-PK1_Si.csv\n"
     ]
    },
    {
     "name": "stdout",
     "output_type": "stream",
     "text": [
      "File name: Phys-PK1_Si.csv\n"
     ]
    },
    {
     "name": "stdin",
     "output_type": "stream",
     "text": [
      "Enter data start row 29\n"
     ]
    },
    {
     "name": "stdout",
     "output_type": "stream",
     "text": [
      "    Angle  Intensity\n",
      "0  25.015      306.0\n",
      "1  25.032      267.0\n",
      "2  25.049      289.0\n",
      "3  25.066      261.0\n",
      "4  25.083      288.0\n",
      "5  25.100      297.0\n",
      "6  25.117      258.0\n",
      "7  25.134      298.0\n",
      "8  25.151      258.0\n",
      "9  25.168      284.0\n"
     ]
    }
   ],
   "source": [
    "value = user_input()"
   ]
  },
  {
   "cell_type": "code",
   "execution_count": 26,
   "metadata": {},
   "outputs": [
    {
     "name": "stdout",
     "output_type": "stream",
     "text": [
      "('Phys-PK1_Si.csv', 0       25.015\n",
      "1       25.032\n",
      "2       25.049\n",
      "3       25.066\n",
      "4       25.083\n",
      "         ...  \n",
      "3524    84.923\n",
      "3525    84.940\n",
      "3526    84.957\n",
      "3527    84.974\n",
      "3528    84.991\n",
      "Name: Angle, Length: 3529, dtype: float64, 0       306.0\n",
      "1       267.0\n",
      "2       289.0\n",
      "3       261.0\n",
      "4       288.0\n",
      "        ...  \n",
      "3524     74.0\n",
      "3525     66.0\n",
      "3526     72.0\n",
      "3527     68.0\n",
      "3528     63.0\n",
      "Name: Intensity, Length: 3529, dtype: float64)\n"
     ]
    }
   ],
   "source": [
    "print(value)"
   ]
  },
  {
   "cell_type": "code",
   "execution_count": null,
   "metadata": {},
   "outputs": [],
   "source": []
  }
 ],
 "metadata": {
  "kernelspec": {
   "display_name": "Python 3",
   "language": "python",
   "name": "python3"
  },
  "language_info": {
   "codemirror_mode": {
    "name": "ipython",
    "version": 3
   },
   "file_extension": ".py",
   "mimetype": "text/x-python",
   "name": "python",
   "nbconvert_exporter": "python",
   "pygments_lexer": "ipython3",
   "version": "3.7.6"
  }
 },
 "nbformat": 4,
 "nbformat_minor": 4
}
