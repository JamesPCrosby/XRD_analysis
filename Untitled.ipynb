{
 "cells": [
  {
   "cell_type": "code",
   "execution_count": 4,
   "metadata": {},
   "outputs": [],
   "source": [
    "import pandas as pd\n",
    "import numpy as np\n",
    "import matplotlib.pyplot as plt"
   ]
  },
  {
   "cell_type": "code",
   "execution_count": 5,
   "metadata": {},
   "outputs": [],
   "source": [
    "def user_input():\n",
    "    while True:\n",
    "        try:\n",
    "            name = input('Enter file name')\n",
    "            if '.''txt' in name:\n",
    "                print('File name: ' + name)\n",
    "                data = pd.read_csv(name, delimiter = '\\t')\n",
    "                print(data.head(10))\n",
    "                xdata = data.columns[0]\n",
    "                ydata = data.columns[1]\n",
    "                break\n",
    "            elif '.''csv' in name:\n",
    "                print('File name: ' + name)\n",
    "                while True:\n",
    "                    try:\n",
    "                        data = pd.read_csv(name)\n",
    "                        xdata = data[data.columns[0]]\n",
    "                        ydata = data[data.columns[1]]\n",
    "                    except pd.errors.ParserError:\n",
    "                        while True:\n",
    "                            try:\n",
    "                                row = input('Enter data start row')\n",
    "                                data = pd.read_csv(name, header = int(row))\n",
    "                                print(data.head(10))\n",
    "                                xdata = data[data.columns[0]]\n",
    "                                ydata = data[data.columns[1]]\n",
    "                                break\n",
    "                            except pd.errors.ParserError:\n",
    "                                print('ERROR: INCORRECT ROW START')\n",
    "                                print('Enter data start row: ')\n",
    "                                continue\n",
    "                            break\n",
    "                print('ERROR: FILE UNKNOWN')\n",
    "                print('Please enter file name:')\n",
    "                continue\n",
    "        except FileNotFoundError:\n",
    "            print('ERROR: FILE NOT FOUND')\n",
    "            print('Enter file name: ')\n",
    "            continue\n",
    "\n"
   ]
  },
  {
   "cell_type": "code",
   "execution_count": null,
   "metadata": {},
   "outputs": [
    {
     "name": "stdin",
     "output_type": "stream",
     "text": [
      "Enter file name Phys-PK1_Si.csv\n"
     ]
    },
    {
     "name": "stdout",
     "output_type": "stream",
     "text": [
      "File name: Phys-PK1_Si.csv\n"
     ]
    },
    {
     "name": "stdin",
     "output_type": "stream",
     "text": [
      "Enter data start row 29\n"
     ]
    },
    {
     "name": "stdout",
     "output_type": "stream",
     "text": [
      "    Angle  Intensity\n",
      "0  25.015      306.0\n",
      "1  25.032      267.0\n",
      "2  25.049      289.0\n",
      "3  25.066      261.0\n",
      "4  25.083      288.0\n",
      "5  25.100      297.0\n",
      "6  25.117      258.0\n",
      "7  25.134      298.0\n",
      "8  25.151      258.0\n",
      "9  25.168      284.0\n"
     ]
    }
   ],
   "source": [
    "file = user_input()"
   ]
  },
  {
   "cell_type": "code",
   "execution_count": null,
   "metadata": {},
   "outputs": [],
   "source": []
  }
 ],
 "metadata": {
  "kernelspec": {
   "display_name": "Python 3",
   "language": "python",
   "name": "python3"
  },
  "language_info": {
   "codemirror_mode": {
    "name": "ipython",
    "version": 3
   },
   "file_extension": ".py",
   "mimetype": "text/x-python",
   "name": "python",
   "nbconvert_exporter": "python",
   "pygments_lexer": "ipython3",
   "version": "3.7.6"
  }
 },
 "nbformat": 4,
 "nbformat_minor": 4
}
