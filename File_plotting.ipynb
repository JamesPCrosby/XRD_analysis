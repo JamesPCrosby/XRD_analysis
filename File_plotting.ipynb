{
 "cells": [
  {
   "cell_type": "code",
   "execution_count": 1,
   "metadata": {},
   "outputs": [],
   "source": [
    "import pandas as pd\n",
    "import numpy as np\n",
    "import matplotlib.pyplot as plt"
   ]
  },
  {
   "cell_type": "code",
   "execution_count": 44,
   "metadata": {},
   "outputs": [],
   "source": [
    "class file_load:  \n",
    "        \n",
    "    @classmethod\n",
    "    def user_input(self):\n",
    "        while True:\n",
    "            try:\n",
    "                name = input('Enter file name')\n",
    "                if '.''txt' in name:\n",
    "                    print('File name: ' + name)\n",
    "                    data = pd.read_csv(name, delimiter = '\\t')\n",
    "                    print(data.head(10))\n",
    "                    xdata = data.columns[0]\n",
    "                    ydata = data.columns[1]\n",
    "                    break\n",
    "                elif '.''csv' in name:\n",
    "                    print('File name: ' + name)\n",
    "                    while True:\n",
    "                        try:\n",
    "                            data = pd.read_csv(name)\n",
    "                            xdata = data[data.columns[0]]\n",
    "                            ydata = data[data.columns[1]]\n",
    "                        except pd.errors.ParserError:\n",
    "                            while True:\n",
    "                                try:\n",
    "                                    row = input('Enter data start row')\n",
    "                                    data = pd.read_csv(name, header = int(row))\n",
    "                                    print(data.head(10))\n",
    "                                    xdata = data[data.columns[0]]\n",
    "                                    ydata = data[data.columns[1]]\n",
    "                                    break\n",
    "                                except pd.errors.ParserError:\n",
    "                                    print('ERROR: INCORRECT ROW START')\n",
    "                                    print('Enter data start row: ')\n",
    "                                    continue\n",
    "                            return xdata, ydata\n",
    "                        break\n",
    "                    print('ERROR: FILE UNKNOWN')\n",
    "                    print('Please enter file name:')\n",
    "                    return xdata, ydata\n",
    "            except FileNotFoundError:\n",
    "                print('ERROR: FILE NOT FOUND')\n",
    "                print('Enter file name: ')\n",
    "                continue\n",
    "        \n",
    "        return self(xdata, ydata)\n",
    "   \n",
    "           \n",
    "    def __init__(self, name, xdata, ydata):\n",
    "        self.name = name\n",
    "        self.xdata = xdata\n",
    "        self.ydata = ydata\n",
    "        \n",
    "         \n",
    "    def plotting(self, xdata, ydata):\n",
    "        while True:\n",
    "                x_label = input('Enter x label')\n",
    "                x = self.xdata\n",
    "                print(x)\n",
    "                print(x_label)\n",
    "                break\n",
    "    \n",
    "                    \n",
    "                    "
   ]
  },
  {
   "cell_type": "code",
   "execution_count": 45,
   "metadata": {},
   "outputs": [
    {
     "name": "stdin",
     "output_type": "stream",
     "text": [
      "Enter file name Phys-PK1_Si.csv\n"
     ]
    },
    {
     "name": "stdout",
     "output_type": "stream",
     "text": [
      "File name: Phys-PK1_Si.csv\n"
     ]
    },
    {
     "name": "stdin",
     "output_type": "stream",
     "text": [
      "Enter data start row 29\n"
     ]
    },
    {
     "name": "stdout",
     "output_type": "stream",
     "text": [
      "    Angle  Intensity\n",
      "0  25.015      306.0\n",
      "1  25.032      267.0\n",
      "2  25.049      289.0\n",
      "3  25.066      261.0\n",
      "4  25.083      288.0\n",
      "5  25.100      297.0\n",
      "6  25.117      258.0\n",
      "7  25.134      298.0\n",
      "8  25.151      258.0\n",
      "9  25.168      284.0\n"
     ]
    },
    {
     "ename": "NameError",
     "evalue": "name 'xdata' is not defined",
     "output_type": "error",
     "traceback": [
      "\u001b[0;31m---------------------------------------------------------------------------\u001b[0m",
      "\u001b[0;31mNameError\u001b[0m                                 Traceback (most recent call last)",
      "\u001b[0;32m<ipython-input-45-80bd0b70be31>\u001b[0m in \u001b[0;36m<module>\u001b[0;34m\u001b[0m\n\u001b[1;32m      1\u001b[0m \u001b[0mfile_load\u001b[0m\u001b[0;34m.\u001b[0m\u001b[0muser_input\u001b[0m\u001b[0;34m(\u001b[0m\u001b[0;34m)\u001b[0m\u001b[0;34m\u001b[0m\u001b[0;34m\u001b[0m\u001b[0m\n\u001b[1;32m      2\u001b[0m \u001b[0;31m#file_load.plotting()\u001b[0m\u001b[0;34m\u001b[0m\u001b[0;34m\u001b[0m\u001b[0;34m\u001b[0m\u001b[0m\n\u001b[0;32m----> 3\u001b[0;31m \u001b[0mprint\u001b[0m\u001b[0;34m(\u001b[0m\u001b[0mxdata\u001b[0m\u001b[0;34m)\u001b[0m\u001b[0;34m\u001b[0m\u001b[0;34m\u001b[0m\u001b[0m\n\u001b[0m",
      "\u001b[0;31mNameError\u001b[0m: name 'xdata' is not defined"
     ]
    }
   ],
   "source": [
    "file_load.user_input()\n",
    "file_load.plotting()"
   ]
  },
  {
   "cell_type": "code",
   "execution_count": null,
   "metadata": {},
   "outputs": [],
   "source": []
  }
 ],
 "metadata": {
  "kernelspec": {
   "display_name": "Python 3",
   "language": "python",
   "name": "python3"
  },
  "language_info": {
   "codemirror_mode": {
    "name": "ipython",
    "version": 3
   },
   "file_extension": ".py",
   "mimetype": "text/x-python",
   "name": "python",
   "nbconvert_exporter": "python",
   "pygments_lexer": "ipython3",
   "version": "3.7.6"
  }
 },
 "nbformat": 4,
 "nbformat_minor": 4
}
